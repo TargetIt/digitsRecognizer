{
 "cells": [
  {
   "cell_type": "code",
   "execution_count": null,
   "metadata": {
    "collapsed": true
   },
   "outputs": [],
   "source": [
    "from numpy import *\n",
    "import operator\n",
    "\n",
    "def createDataSet():\n",
    "    group = array([[1.0, 1.1], [1.0,1.0], [0,0], [0,0.1]])\n",
    "    labels = ['A', 'A', 'B', 'B']\n",
    "    return group, labels"
   ]
  },
  {
   "cell_type": "code",
   "execution_count": null,
   "metadata": {},
   "outputs": [],
   "source": [
    "group, labels = createDataSet()\n",
    "print group\n",
    "print labels\n",
    "a=group.sum(axis=1)"
   ]
  },
  {
   "cell_type": "raw",
   "metadata": {},
   "source": [
    "Pseudocode \n",
    "\n",
    "For every point in our dataset:\n",
    "    calculate the distance between inX and the current point\n",
    "    sort the distances in increasing order\n",
    "    take k items with lowest distances to inX\n",
    "    find the majority class among these items\n",
    "    return the majority class as our prediction for the class of inX"
   ]
  },
  {
   "cell_type": "code",
   "execution_count": null,
   "metadata": {
    "collapsed": true
   },
   "outputs": [],
   "source": [
    "def classify0(inX, dataSet, labels, k):\n",
    "    \n",
    "    dataSetSize = dataSet.shape[0]\n",
    "    \n",
    "    diffMat = tile(inX, (dataSetSize, 1)) - dataSet\n",
    "    sqDiffMat = diffMat ** 2\n",
    "    sqDistances = sqDiffMat.sum(axis=1)\n",
    "    distances = sqDistances**0.5\n",
    "    \n",
    "    sortedDistIndicies = distances.argsort()\n",
    "    \n",
    "    classCount = {}\n",
    "    for i in range(k):\n",
    "        voteIlabel = labels[sortedDistIndicies[i]]\n",
    "        classCount[voteIlabel] = classCount.get(voteIlabel,0) + 1\n",
    "    sortedClassCount = sorted(classCount.iteritems(), \n",
    "                              key=operator.itemgetter(1), reverse=True)\n",
    "    print sortedClassCount\n",
    "    return sortedClassCount[0][0]\n",
    "       "
   ]
  },
  {
   "cell_type": "code",
   "execution_count": 67,
   "metadata": {},
   "outputs": [
    {
     "name": "stdout",
     "output_type": "stream",
     "text": [
      "[('B', 1)]\n",
      "B\n",
      "[('B', 2)]\n",
      "B\n",
      "[('B', 2), ('A', 1)]\n",
      "B\n",
      "[('A', 2), ('B', 2)]\n",
      "A\n"
     ]
    }
   ],
   "source": [
    "print classify0([0,0], group, labels, 1)\n",
    "print classify0([0,0], group, labels, 2)\n",
    "print classify0([0,0], group, labels, 3)\n",
    "print classify0([0,0], group, labels, 4)"
   ]
  },
  {
   "cell_type": "markdown",
   "metadata": {},
   "source": [
    "## conclusion:\n",
    "\n",
    "Cons:\n",
    "\n",
    "The above example shows that there's an error when k=4\n",
    "\n",
    "!!! the weight of each one is the same inside k, which caused the issues."
   ]
  }
 ],
 "metadata": {
  "kernelspec": {
   "display_name": "Python 2",
   "language": "python",
   "name": "python2"
  },
  "language_info": {
   "codemirror_mode": {
    "name": "ipython",
    "version": 2
   },
   "file_extension": ".py",
   "mimetype": "text/x-python",
   "name": "python",
   "nbconvert_exporter": "python",
   "pygments_lexer": "ipython2",
   "version": "2.7.13"
  }
 },
 "nbformat": 4,
 "nbformat_minor": 2
}
